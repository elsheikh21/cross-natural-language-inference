{
  "nbformat": 4,
  "nbformat_minor": 0,
  "metadata": {
    "colab": {
      "name": "XNLI_XLM-R.ipynb",
      "provenance": [],
      "collapsed_sections": [
        "rtjif02VH4Ya",
        "Wb2VUo2zH6oV",
        "2iry8Q2MH9Rp"
      ]
    },
    "kernelspec": {
      "name": "python3",
      "display_name": "Python 3"
    },
    "accelerator": "GPU",
    "widgets": {
      "application/vnd.jupyter.widget-state+json": {
        "b1320f30df004a0a9252f1da772aa7cd": {
          "model_module": "@jupyter-widgets/controls",
          "model_name": "HBoxModel",
          "state": {
            "_view_name": "HBoxView",
            "_dom_classes": [],
            "_model_name": "HBoxModel",
            "_view_module": "@jupyter-widgets/controls",
            "_model_module_version": "1.5.0",
            "_view_count": null,
            "_view_module_version": "1.5.0",
            "box_style": "",
            "layout": "IPY_MODEL_99d1a54b1734416e9ac66bf8d317b5f3",
            "_model_module": "@jupyter-widgets/controls",
            "children": [
              "IPY_MODEL_b49514fb3b6849078a2380b4b13d4063",
              "IPY_MODEL_b9c91fab701c431f81a18e44871a73f9"
            ]
          }
        },
        "2fe9e7083dfa4299b14894dab7ec3541": {
          "model_module": "@jupyter-widgets/controls",
          "model_name": "HBoxModel",
          "state": {
            "_view_name": "HBoxView",
            "_dom_classes": [],
            "_model_name": "HBoxModel",
            "_view_module": "@jupyter-widgets/controls",
            "_model_module_version": "1.5.0",
            "_view_count": null,
            "_view_module_version": "1.5.0",
            "box_style": "",
            "layout": "IPY_MODEL_bd63178b54a14bf08ba264231c386324",
            "_model_module": "@jupyter-widgets/controls",
            "children": [
              "IPY_MODEL_5a02046bc04d4e99ade1f88b349d7afe",
              "IPY_MODEL_ad0784c543194989b867996077f5a5e2"
            ]
          }
        },
        "bd63178b54a14bf08ba264231c386324": {
          "model_module": "@jupyter-widgets/base",
          "model_name": "LayoutModel",
          "state": {
            "_view_name": "LayoutView",
            "grid_template_rows": null,
            "right": null,
            "justify_content": null,
            "_view_module": "@jupyter-widgets/base",
            "overflow": null,
            "_model_module_version": "1.2.0",
            "_view_count": null,
            "flex_flow": null,
            "width": null,
            "min_width": null,
            "border": null,
            "align_items": null,
            "bottom": null,
            "_model_module": "@jupyter-widgets/base",
            "top": null,
            "grid_column": null,
            "overflow_y": null,
            "overflow_x": null,
            "grid_auto_flow": null,
            "grid_area": null,
            "grid_template_columns": null,
            "flex": null,
            "_model_name": "LayoutModel",
            "justify_items": null,
            "grid_row": null,
            "max_height": null,
            "align_content": null,
            "visibility": null,
            "align_self": null,
            "height": null,
            "min_height": null,
            "padding": null,
            "grid_auto_rows": null,
            "grid_gap": null,
            "max_width": null,
            "order": null,
            "_view_module_version": "1.2.0",
            "grid_template_areas": null,
            "object_position": null,
            "object_fit": null,
            "grid_auto_columns": null,
            "margin": null,
            "display": null,
            "left": null
          }
        },
        "5a02046bc04d4e99ade1f88b349d7afe": {
          "model_module": "@jupyter-widgets/controls",
          "model_name": "FloatProgressModel",
          "state": {
            "_view_name": "ProgressView",
            "style": "IPY_MODEL_85eaf13a6aee4214b543228221f34e06",
            "_dom_classes": [],
            "description": "Downloading: 100%",
            "_model_name": "FloatProgressModel",
            "bar_style": "success",
            "max": 2539,
            "_view_module": "@jupyter-widgets/controls",
            "_model_module_version": "1.5.0",
            "value": 2539,
            "_view_count": null,
            "_view_module_version": "1.5.0",
            "orientation": "horizontal",
            "min": 0,
            "description_tooltip": null,
            "_model_module": "@jupyter-widgets/controls",
            "layout": "IPY_MODEL_8cb8c79146be4332adfb7d25dba4a96c"
          }
        },
        "ad0784c543194989b867996077f5a5e2": {
          "model_module": "@jupyter-widgets/controls",
          "model_name": "HTMLModel",
          "state": {
            "_view_name": "HTMLView",
            "style": "IPY_MODEL_b47f5fd14bc64b06836f56a4c0666bd1",
            "_dom_classes": [],
            "description": "",
            "_model_name": "HTMLModel",
            "placeholder": "​",
            "_view_module": "@jupyter-widgets/controls",
            "_model_module_version": "1.5.0",
            "value": " 2.54k/2.54k [00:00&lt;00:00, 4.32kB/s]",
            "_view_count": null,
            "_view_module_version": "1.5.0",
            "description_tooltip": null,
            "_model_module": "@jupyter-widgets/controls",
            "layout": "IPY_MODEL_83affa4dac9040028dbaf6e6da0ad279"
          }
        },
        "85eaf13a6aee4214b543228221f34e06": {
          "model_module": "@jupyter-widgets/controls",
          "model_name": "ProgressStyleModel",
          "state": {
            "_view_name": "StyleView",
            "_model_name": "ProgressStyleModel",
            "description_width": "initial",
            "_view_module": "@jupyter-widgets/base",
            "_model_module_version": "1.5.0",
            "_view_count": null,
            "_view_module_version": "1.2.0",
            "bar_color": null,
            "_model_module": "@jupyter-widgets/controls"
          }
        },
        "8cb8c79146be4332adfb7d25dba4a96c": {
          "model_module": "@jupyter-widgets/base",
          "model_name": "LayoutModel",
          "state": {
            "_view_name": "LayoutView",
            "grid_template_rows": null,
            "right": null,
            "justify_content": null,
            "_view_module": "@jupyter-widgets/base",
            "overflow": null,
            "_model_module_version": "1.2.0",
            "_view_count": null,
            "flex_flow": null,
            "width": null,
            "min_width": null,
            "border": null,
            "align_items": null,
            "bottom": null,
            "_model_module": "@jupyter-widgets/base",
            "top": null,
            "grid_column": null,
            "overflow_y": null,
            "overflow_x": null,
            "grid_auto_flow": null,
            "grid_area": null,
            "grid_template_columns": null,
            "flex": null,
            "_model_name": "LayoutModel",
            "justify_items": null,
            "grid_row": null,
            "max_height": null,
            "align_content": null,
            "visibility": null,
            "align_self": null,
            "height": null,
            "min_height": null,
            "padding": null,
            "grid_auto_rows": null,
            "grid_gap": null,
            "max_width": null,
            "order": null,
            "_view_module_version": "1.2.0",
            "grid_template_areas": null,
            "object_position": null,
            "object_fit": null,
            "grid_auto_columns": null,
            "margin": null,
            "display": null,
            "left": null
          }
        },
        "b47f5fd14bc64b06836f56a4c0666bd1": {
          "model_module": "@jupyter-widgets/controls",
          "model_name": "DescriptionStyleModel",
          "state": {
            "_view_name": "StyleView",
            "_model_name": "DescriptionStyleModel",
            "description_width": "",
            "_view_module": "@jupyter-widgets/base",
            "_model_module_version": "1.5.0",
            "_view_count": null,
            "_view_module_version": "1.2.0",
            "_model_module": "@jupyter-widgets/controls"
          }
        },
        "83affa4dac9040028dbaf6e6da0ad279": {
          "model_module": "@jupyter-widgets/base",
          "model_name": "LayoutModel",
          "state": {
            "_view_name": "LayoutView",
            "grid_template_rows": null,
            "right": null,
            "justify_content": null,
            "_view_module": "@jupyter-widgets/base",
            "overflow": null,
            "_model_module_version": "1.2.0",
            "_view_count": null,
            "flex_flow": null,
            "width": null,
            "min_width": null,
            "border": null,
            "align_items": null,
            "bottom": null,
            "_model_module": "@jupyter-widgets/base",
            "top": null,
            "grid_column": null,
            "overflow_y": null,
            "overflow_x": null,
            "grid_auto_flow": null,
            "grid_area": null,
            "grid_template_columns": null,
            "flex": null,
            "_model_name": "LayoutModel",
            "justify_items": null,
            "grid_row": null,
            "max_height": null,
            "align_content": null,
            "visibility": null,
            "align_self": null,
            "height": null,
            "min_height": null,
            "padding": null,
            "grid_auto_rows": null,
            "grid_gap": null,
            "max_width": null,
            "order": null,
            "_view_module_version": "1.2.0",
            "grid_template_areas": null,
            "object_position": null,
            "object_fit": null,
            "grid_auto_columns": null,
            "margin": null,
            "display": null,
            "left": null
          }
        }
      }
    }
  },
  "cells": [
    {
      "cell_type": "markdown",
      "metadata": {
        "id": "j5zpByhG3BOH",
        "colab_type": "text"
      },
      "source": [
        "## Install & import *requirements*, Workspace configuration"
      ]
    },
    {
      "cell_type": "markdown",
      "metadata": {
        "id": "-xQY5AKpl6S6",
        "colab_type": "text"
      },
      "source": [
        "Install all requirements needed"
      ]
    },
    {
      "cell_type": "code",
      "metadata": {
        "id": "ttpkHGfJ5xyz",
        "colab_type": "code",
        "colab": {}
      },
      "source": [
        "!pip install torch==1.4.0 nlp==0.3.0 pyarrow==0.16.0 transformers==3.0.2 scikit-learn==0.22.2 numpy==1.18.2 tqdm==4.43.0 six==1.15.0 tabulate==0.8.7 pkbar==0.4 nltk==3.2.5 tabulate==0.8.7\n",
        "exit()  # to restart the kernel"
      ],
      "execution_count": null,
      "outputs": []
    },
    {
      "cell_type": "markdown",
      "metadata": {
        "id": "Ltt8lCQ0l81P",
        "colab_type": "text"
      },
      "source": [
        "Imports"
      ]
    },
    {
      "cell_type": "code",
      "metadata": {
        "id": "53Eta-Ev5kwH",
        "colab_type": "code",
        "colab": {}
      },
      "source": [
        "import json\n",
        "import os\n",
        "import pickle\n",
        "import datetime\n",
        "import random\n",
        "import numpy as np\n",
        "from pathlib import Path\n",
        "import logging\n",
        "import importlib\n",
        "import warnings\n",
        "import time\n",
        "\n",
        "import nlp\n",
        "import nltk\n",
        "import torch\n",
        "from tabulate import tabulate\n",
        "from torch.nn.utils.rnn import pad_sequence\n",
        "from torch.utils.data import Dataset\n",
        "from torch.optim import Adam\n",
        "from torch.nn import CrossEntropyLoss\n",
        "from torch.utils.data import DataLoader\n",
        "from tqdm.autonotebook import tqdm\n",
        "\n",
        "import torch.nn as nn\n",
        "from torch.nn.modules.module import _addindent\n",
        "from nltk.tokenize import RegexpTokenizer \n",
        "\n",
        "from torch.nn.utils import clip_grad_norm_\n",
        "from torch.optim.lr_scheduler import ReduceLROnPlateau\n",
        "from transformers import (AutoTokenizer, AutoModel,\n",
        "                          AdamW, get_linear_schedule_with_warmup,\n",
        "                          get_cosine_schedule_with_warmup)\n",
        "\n",
        "import pkbar\n",
        "import shutil"
      ],
      "execution_count": null,
      "outputs": []
    },
    {
      "cell_type": "markdown",
      "metadata": {
        "id": "i00LIEO8l_Yc",
        "colab_type": "text"
      },
      "source": [
        "- Configure workspace\n",
        "    1. Ignore warnings \n",
        "    2. Fix seed\n",
        "    3. Download nltk needed packages\n",
        "    4. Configure logger\n",
        "    5. Create & Remove folders\n",
        "\n",
        "- Utilites \n",
        "    1. save & load pickles\n",
        "    2. Ensure directory existing, create if not existing"
      ]
    },
    {
      "cell_type": "code",
      "metadata": {
        "id": "MC-leKX55sAs",
        "colab_type": "code",
        "colab": {}
      },
      "source": [
        "def manage_workspace_directories():\n",
        "    dir_path = os.getcwd()\n",
        "    folders = ['model', 'runs']\n",
        "    folders_to_remove = ['sample_data']\n",
        "\n",
        "    for folder in folders:\n",
        "        if not os.path.exists(folder):\n",
        "            os.mkdir(os.path.join(dir_path, folder))\n",
        "    \n",
        "    for folder in folders_to_remove:\n",
        "        if os.path.exists(folder):\n",
        "            shutil.rmtree(folder)\n",
        "\n",
        "\n",
        "def configure_workspace(SEED=1873337):\n",
        "    \"\"\"\n",
        "    Configure seed for reproducability, configure logging messages\n",
        "    \"\"\"\n",
        "    warnings.filterwarnings(\"ignore\")\n",
        "    random.seed(SEED)\n",
        "    np.random.seed(SEED)\n",
        "    os.environ['PYTHONHASHSEED'] = str(SEED)\n",
        "    torch.manual_seed(SEED)\n",
        "    torch.backends.cudnn.deterministic = True\n",
        "    torch.backends.cudnn.benchmark = False\n",
        "    nltk.download('punkt', quiet=True)\n",
        "    logging.basicConfig(format=\"%(levelname)s - %(asctime)s: %(message)s\",\n",
        "                        datefmt='%H:%M:%S', level=logging.WARNING)\n",
        "    manage_workspace_directories()\n",
        "\n",
        "\n",
        "def save_pickle(save_to, save_what):\n",
        "    \"\"\" Save data into pickle format\"\"\"\n",
        "    with open(save_to, mode='wb') as f:\n",
        "        pickle.dump(save_what, f)\n",
        "\n",
        "\n",
        "def load_pickle(load_from):\n",
        "    \"\"\" Load data from presaved pickle file\"\"\"\n",
        "    with open(load_from, 'rb') as f:\n",
        "        return pickle.load(f)\n",
        "\n",
        "\n",
        "def ensure_dir(path):\n",
        "    \"\"\"\n",
        "    Makes sure direcctory exists and if not it creates it\n",
        "    \"\"\"\n",
        "    if not os.path.exists(path):\n",
        "        os.makedirs(path)"
      ],
      "execution_count": null,
      "outputs": []
    },
    {
      "cell_type": "markdown",
      "metadata": {
        "id": "BlSpRK4P2eeE",
        "colab_type": "text"
      },
      "source": [
        "## Dataset Parser"
      ]
    },
    {
      "cell_type": "markdown",
      "metadata": {
        "id": "jBHWFwm2mbIR",
        "colab_type": "text"
      },
      "source": [
        "- Create data parser object inherting from `torch.utils.data.Dataset`\n",
        "    - Creates labels vocabulary\n",
        "    - load Pretrained language model tokenizer `AutoTokenizer.from_pretrained('xlm-roberta-large')`\n",
        "    - Encode dataset using `encode_plus()` pass to it a premise to be paired with a hypothesis as NLI is a sequence-pair classification\n",
        "    - Pad sequences as per batch (not used) as sequences are padded/trimmed per batch\n",
        "    - Decode predictions  "
      ]
    },
    {
      "cell_type": "code",
      "metadata": {
        "id": "M9YVMAoC5wRM",
        "colab_type": "code",
        "colab": {}
      },
      "source": [
        "class PTMDatasetParser(Dataset):\n",
        "    \"\"\"\n",
        "    XLMRDatasetParser identical to XLMRDatasetParser but without passing to the model the languages sequences\n",
        "    it builds the label2idx and idx2label, uses XLM Tokenizer, lowers all tokens,\n",
        "    indexes the dataset and pads per batch to feed model sequences of the same length\n",
        "    \"\"\"\n",
        "\n",
        "    def __init__(self, _device, data_, model_=\"xlm-roberta-large\"):\n",
        "        super(PTMDatasetParser).__init__()\n",
        "        self.encoded_data = []\n",
        "        self.device = _device\n",
        "        self.languages, self.premises, self.hypotheses, self.labels = data_\n",
        "        self.model_name = model_\n",
        "        self.label2idx = {'entailment': 0, 'neutral': 1, 'contradiction': 2}\n",
        "        self.idx2label = {0: 'entailment', 1: 'neutral', 2: 'contradiction'}\n",
        "\n",
        "    def __len__(self):\n",
        "        return len(self.premises)\n",
        "\n",
        "    def __getitem__(self, idx):\n",
        "        if self.encoded_data is None:\n",
        "            raise RuntimeError(\"Dataset is not indexed yet.\\\n",
        "                                To fetch raw elements, use get_element(idx)\")\n",
        "        return self.encoded_data[idx]\n",
        "\n",
        "    def get_element(self, idx):\n",
        "        return self.languages[idx], self.premises[idx], self.hypotheses[idx], self.labels[idx]\n",
        "\n",
        "    def encode_dataset(self):\n",
        "        \"\"\" Indexing and encoding the dataset using XLMTokenizer whilst lowering all tokens\n",
        "        Tokenizer takes the sentence A (premises) and sentence B (hypotheses) adds to them the special tokens\n",
        "        [CLS] & [SEP], it pads sentences to max length of 128 and truncates the ones with lengthier number of tokens\n",
        "            - Original Sequence (inputs_ids) is changed to its corresponding IDs\n",
        "            - Attention masks helps the model differntiate between [PAD] and original tokens\n",
        "            - Token types helps the model know which sentence is Sentence A and which is the sentence B\n",
        "        \"\"\"\n",
        "\n",
        "        tokenizer = AutoTokenizer.from_pretrained(self.model_name, do_lower_case=True)\n",
        "        for lang_, premise_, hypothesis_, labels_ in tqdm(\n",
        "                zip(self.languages, self.premises, self.hypotheses, self.labels),\n",
        "                leave=False, total=len(self.premises),\n",
        "                desc=f'Encoding dataset'):\n",
        "            encoded_dict = tokenizer.encode_plus(text=premise_,\n",
        "                                                 text_pair=hypothesis_,\n",
        "                                                 add_special_tokens=True,\n",
        "                                                 return_token_type_ids=True,\n",
        "                                                 return_attention_mask=True,\n",
        "                                                 max_length=128,\n",
        "                                                 truncation=True,\n",
        "                                                 pad_to_max_length=True,\n",
        "                                                 return_tensors='pt')\n",
        "            self.encoded_data.append({'premises_hypotheses': torch.squeeze(encoded_dict[\"input_ids\"]),\n",
        "                                      'attention_mask': torch.squeeze(encoded_dict[\"attention_mask\"]),\n",
        "                                      'token_types': torch.squeeze(encoded_dict[\"token_type_ids\"]),\n",
        "                                      'outputs': torch.LongTensor([self.label2idx.get(labels_)])})\n",
        "\n",
        "    @staticmethod\n",
        "    def pad_batch(batch):\n",
        "        \"\"\" Pads sequences per batch with `padding_value=0`\n",
        "        Args: batch: List[dict]\n",
        "        Returns: dict of models inputs padded as per max len in batch\n",
        "        \"\"\"\n",
        "        # XLM-R tokenizer padding index is 2, hence it is the padding value in `padded_premises_hypotheses`\n",
        "        premises_hypotheses_batch = [sample[\"premises_hypotheses\"] for sample in batch]\n",
        "        padded_premises_hypotheses = pad_sequence(premises_hypotheses_batch, padding_value=2, batch_first=True)\n",
        "        mask = [sample[\"attention_mask\"] for sample in batch]\n",
        "        padded_mask = pad_sequence(mask, padding_value=0, batch_first=True)\n",
        "        # Token types is padded with 1 (unlike others padded with 0), padded with 1's due to\n",
        "        # that we are doing pair_sentences encoding so the other sentence is consisting of 1's\n",
        "        token_types_batch = [sample[\"token_types\"] for sample in batch]\n",
        "        padded_token_types = pad_sequence(token_types_batch, padding_value=1, batch_first=True)\n",
        "        outputs_batch = pad_sequence([sample[\"outputs\"] for sample in batch], batch_first=True)\n",
        "\n",
        "        return {\"premises_hypotheses\": padded_premises_hypotheses,\n",
        "                \"attention_mask\": padded_mask,\n",
        "                \"token_types\": padded_token_types,\n",
        "                \"outputs\": outputs_batch}\n",
        "\n",
        "    def decode_predictions(self, predictions):\n",
        "        \"\"\"\n",
        "        Flattens predictions list (if it is a list of lists)\n",
        "        and get the corresponding label name for each label index (label_stoi)\n",
        "        \"\"\"\n",
        "        if any(isinstance(el, list) for el in predictions):\n",
        "            return [self.idx2label.get(label) for tag in predictions for label in tag]\n",
        "        else:\n",
        "            predictions_ = [_e for e in predictions for _e in e]\n",
        "            return [self.idx2label.get(label) for tag in predictions_ for label in tag]"
      ],
      "execution_count": null,
      "outputs": []
    },
    {
      "cell_type": "markdown",
      "metadata": {
        "id": "uctr9g-6m6Vf",
        "colab_type": "text"
      },
      "source": [
        "- Functions provided to parse data sets"
      ]
    },
    {
      "cell_type": "code",
      "metadata": {
        "id": "O36ecM-Y5tjM",
        "colab_type": "code",
        "colab": {}
      },
      "source": [
        "int2nli_label = {0: 'entailment', 1: 'neutral', 2: 'contradiction'}\n",
        "nli_label2int = {v: k for k, v in int2nli_label.items()}\n",
        "nli_labels = list(nli_label2int.keys())\n",
        "\n",
        "\n",
        "def read_mnli(dataset):\n",
        "    \"\"\"\n",
        "    READ MNLI Dataset returns 4 lists each of them is a list of strings\n",
        "    languages, premises, hypotheses, labels\n",
        "    \"\"\"\n",
        "    int2nli_label = {0: 'entailment', 1: 'neutral', 2: 'contradiction'}\n",
        "    languages = []\n",
        "    premises = []\n",
        "    hypotheses = []\n",
        "    labels = []\n",
        "\n",
        "    for sample in dataset:\n",
        "        languages.append('en')\n",
        "        premises.append(sample['premise'])\n",
        "        hypotheses.append(sample['hypothesis'])\n",
        "        labels.append(int2nli_label[sample['label']])\n",
        "\n",
        "    assert len(languages) == len(premises) == len(hypotheses) == len(labels)\n",
        "    return languages, premises, hypotheses, labels\n",
        "\n",
        "\n",
        "def read_xnli(dataset):\n",
        "    languages = []\n",
        "    premises = []\n",
        "    hypotheses = []\n",
        "    labels = []\n",
        "\n",
        "    for sample in dataset:\n",
        "\n",
        "        language2premise = {}\n",
        "        language2hypothesis = {}\n",
        "\n",
        "        # read premises\n",
        "        for language, premise in sample['premise'].items():\n",
        "            language2premise[language] = premise\n",
        "\n",
        "        # read hypotheses\n",
        "        for language, hypothesis in zip(sample['hypothesis']['language'], sample['hypothesis']['translation']):\n",
        "            language2hypothesis[language] = hypothesis\n",
        "\n",
        "        label = int2nli_label[sample['label']]\n",
        "\n",
        "        sample_languages = set(language2premise.keys()) & set(language2hypothesis.keys())\n",
        "        assert len(sample_languages) == len(language2premise) == len(language2hypothesis)\n",
        "\n",
        "        for language in sample_languages:\n",
        "            languages.append(language)\n",
        "            premises.append(language2premise[language])\n",
        "            hypotheses.append(language2hypothesis[language])\n",
        "            labels.append(label)\n",
        "\n",
        "    assert len(languages) == len(premises) == len(hypotheses) == len(labels)\n",
        "    return languages, premises, hypotheses, labels\n",
        "    \n",
        "\n",
        "def read_train():\n",
        "    \"\"\"\n",
        "    Read training dataset (MNLI)\n",
        "    \"\"\"\n",
        "    return read_mnli(nlp.load_dataset('multi_nli')['train'])\n",
        "\n",
        "\n",
        "def read_dev():\n",
        "    \"\"\"\n",
        "    Read validation dataset (MNLI)\n",
        "    \"\"\"\n",
        "    return read_mnli(nlp.load_dataset('multi_nli')['validation_matched'])\n",
        "\n",
        "\n",
        "def read_test():\n",
        "    \"\"\"\n",
        "    Read test dataset (XNLI)\n",
        "    \"\"\"\n",
        "    return read_xnli(nlp.load_dataset('xnli')['test'])"
      ],
      "execution_count": null,
      "outputs": []
    },
    {
      "cell_type": "markdown",
      "metadata": {
        "id": "5sfc-NXH2ius",
        "colab_type": "text"
      },
      "source": [
        "## Models"
      ]
    },
    {
      "cell_type": "markdown",
      "metadata": {
        "id": "M5NNv1him__5",
        "colab_type": "text"
      },
      "source": [
        "- Create the model using `AutoModel.from_pretrained('xlm-roberta-large')\n",
        "- forward method, passes the last hidden state from the model to dropout layer then a classifier layer\n",
        "    - Sequences\n",
        "    - Attention_mask: to help the model differentiate between padding tokens and original tokens\n",
        "    - Token types: to allow model differentiate between tokens from sentence A and that of sentence B \n",
        "- `save_(dir_path)` saves the model, and its state dict in `.pt` & `.pth` file extensions respectively.\n",
        "- `load_(dir_path)` load model's state_dict \n",
        "- `predict_sentences_(seq, mask, tokens_type)`\n",
        "- `print_summary()` display model's summary "
      ]
    },
    {
      "cell_type": "code",
      "metadata": {
        "id": "1Sp86qi-7kXt",
        "colab_type": "code",
        "colab": {}
      },
      "source": [
        "class PTM_Model(nn.Module):\n",
        "    def __init__(self, hparams, model_name, freeze_model=False):\n",
        "        \"\"\"\n",
        "        Cross-lingual Language Model which is based on RoBERTa. It is a large multi-lingual language model,\n",
        "        trained on 2.5TB of filtered CommonCrawl data. It is a transformer-based masked language model on\n",
        "        100 languages.\n",
        "\n",
        "        RoBERTa is built on BERT, but, it modifies key hyperparameters, removes BERT's NSP training objective,\n",
        "        and train with larger learning rates, and larger batch sizes.\n",
        "\n",
        "        :param hparams: hyperparameters\n",
        "        :param model_name: by default it is set to \"xlm-roberta-large\"\n",
        "        :param freeze_bert: Boolean flag whether to freeze all model layers, or to fine tune the model given our task\n",
        "        \"\"\"\n",
        "        super(PTM_Model, self).__init__()\n",
        "        self.name = hparams.model_name\n",
        "        self._device = torch.device('cuda' if torch.cuda.is_available() else 'cpu')\n",
        "        self.pretrained_model = AutoModel.from_pretrained(model_name)\n",
        "\n",
        "        if freeze_model:  # Freeze model Layer\n",
        "            for param in self.pretrained_model.parameters():\n",
        "                param.requires_grad = False\n",
        "\n",
        "        self.dropout = nn.Dropout(hparams.dropout)\n",
        "        classifier_input_dim = self.pretrained_model.config.hidden_size\n",
        "        self.classifier = nn.Linear(classifier_input_dim, hparams.num_classes)\n",
        "\n",
        "    def forward(self, sequences, attention_mask, tokens_type):\n",
        "        \"\"\"\n",
        "        XLM-RoBERTa is unlike XLM as it does not require `lang` tensors to understand which language\n",
        "        is used, and should be able to determine the correct language from the input ids.\n",
        "        XLM-RoBERTa takes 3 args as explained below.\n",
        "         Forward method takes\n",
        "        :param sequences: (inputs_ids) Indices of input sequence tokens in the vocabulary.\n",
        "        :param attention_mask: Mask to avoid performing attention on padding token indices.\n",
        "            Mask values selected in [0, 1]: 1 for tokens that are NOT MASKED, 0 for MASKED tokens.\n",
        "        :param tokens_type: Segment token indices to indicate first and second portions of the inputs.\n",
        "            Indices are selected in [0, 1]: 0 corresponds to a sentence A token, 1 corresponds to a sentence B token\n",
        "\n",
        "        XLM Output is\n",
        "            - last_hidden_state [batch_size, sequence_length, hidden_size] which represents the Sequence\n",
        "                of hidden-states at the output of the last layer of the model.\n",
        "            - other parameters that were not used here but can be found in the documentation of transformers package\n",
        "\n",
        "        :return: logits\n",
        "            Which is produced after taking the mean of XLM last_hidden_layer then passed to classifier layer\n",
        "\n",
        "        Note for tokenizer:\n",
        "        it is unlike bert's tokenizer it uses BPE as a tokenizer and a different pre-training scheme.\n",
        "\n",
        "        \"\"\"\n",
        "\n",
        "        outputs = self.pretrained_model(input_ids=sequences,\n",
        "                                        attention_mask=attention_mask,\n",
        "                                        token_type_ids=tokens_type)\n",
        "        last_hidden_state = outputs[0]\n",
        "        sentence_embeddings = torch.mean(last_hidden_state, dim=1)\n",
        "        o = self.dropout(sentence_embeddings)\n",
        "        logits = self.classifier(o)\n",
        "        return logits\n",
        "\n",
        "    def save_(self, dir_path):\n",
        "        \"\"\"\n",
        "        Saves model and its state dict into the given dir path\n",
        "        Args: dir_path (str)\n",
        "        \"\"\"\n",
        "        torch.save(self, f'{dir_path}.pt')\n",
        "        torch.save(self.state_dict(), f'{dir_path}.pth')\n",
        "\n",
        "    def load_(self, path):\n",
        "        \"\"\"\n",
        "        Loads the model and its state dictionary\n",
        "        Args: path (str): [Model's state dict is located]\n",
        "        \"\"\"\n",
        "        state_dict = torch.load(path) if self._device == 'cuda' else torch.load(path, map_location=self._device)\n",
        "        self.load_state_dict(state_dict)\n",
        "\n",
        "    def predict_sentence_(self, seq, mask, tokens_type):\n",
        "        predicted_labels = []\n",
        "        self.eval()\n",
        "        with torch.no_grad():\n",
        "            predictions = self(seq, mask, tokens_type)\n",
        "            _, argmax = torch.max(predictions, dim=-1)\n",
        "            predicted_labels.extend(argmax.tolist())\n",
        "        return predicted_labels\n",
        "\n",
        "    def print_summary(self, show_weights=False, show_parameters=False):\n",
        "        \"\"\"\n",
        "        Summarizes torch model by showing trainable parameters and weights.\n",
        "        \"\"\"\n",
        "        tmpstr = self.__class__.__name__ + ' (\\n'\n",
        "        for key, module in self._modules.items():\n",
        "            # if it contains layers let call it recursively to get params and weights\n",
        "            if type(module) in [\n",
        "                torch.nn.modules.container.Container,\n",
        "                torch.nn.modules.container.Sequential\n",
        "            ]:\n",
        "                modstr = self.print_summary()\n",
        "            else:\n",
        "                modstr = module.__repr__()\n",
        "            modstr = _addindent(modstr, 2)\n",
        "\n",
        "            params = sum([np.prod(p.size()) for p in module.parameters()])\n",
        "            weights = tuple([tuple(p.size()) for p in module.parameters()])\n",
        "\n",
        "            tmpstr += '  (' + key + '): ' + modstr\n",
        "            if show_weights:\n",
        "                tmpstr += ', weights={}'.format(weights)\n",
        "            if show_parameters:\n",
        "                tmpstr += ', parameters={}'.format(params)\n",
        "            tmpstr += '\\n'\n",
        "\n",
        "        tmpstr = tmpstr + ')'\n",
        "        print(f'========== {self.name} Model Summary ==========')\n",
        "        print(tmpstr)\n",
        "        num_params = sum(p.numel()\n",
        "                         for p in self.parameters() if p.requires_grad)\n",
        "        print(f\"Number of parameters: {num_params:,}\")\n",
        "        print('==================================================')\n"
      ],
      "execution_count": null,
      "outputs": []
    },
    {
      "cell_type": "markdown",
      "metadata": {
        "id": "b7oTkk1E2gVp",
        "colab_type": "text"
      },
      "source": [
        "### Hyperparameters"
      ]
    },
    {
      "cell_type": "markdown",
      "metadata": {
        "id": "hUiaKdCaoWX5",
        "colab_type": "text"
      },
      "source": [
        "Set model's hyperparameters"
      ]
    },
    {
      "cell_type": "code",
      "metadata": {
        "id": "UmMVO9Z-RDey",
        "colab_type": "code",
        "colab": {}
      },
      "source": [
        "class HyperParameters:\n",
        "    \"\"\"\n",
        "    Hyperparameters configuration class where all vars are defined\n",
        "    \"\"\"\n",
        "    def __init__(self, model_name_, vocab, label_vocab, embeddings_, batch_size_):\n",
        "        self.model_name = model_name_\n",
        "        self.vocab_size = len(vocab) if vocab else \"Using AutoTokenizer's vocab\"\n",
        "        self.num_classes = len(label_vocab)\n",
        "        self.hidden_dim = 128\n",
        "        self.bidirectional = True\n",
        "        self.embedding_dim = 300\n",
        "        self.num_layers = 1\n",
        "        self.dropout = 0.3\n",
        "        self.embeddings = embeddings_\n",
        "        self.batch_size = batch_size_\n",
        "\n",
        "    def _print_info(self):\n",
        "        \"\"\"\n",
        "        prints summary of model's hyperparameters\n",
        "        \"\"\"\n",
        "        print(\"========== Hyperparameters ==========\",\n",
        "            f\"Name: {self.model_name.replace('_', ' ')}\",\n",
        "            f\"Vocab Size: {self.vocab_size}\",\n",
        "            f\"Tags Size: {self.num_classes}\",\n",
        "            f\"Embeddings Dim: {self.embedding_dim}\",\n",
        "            f\"Hidden Size: {self.hidden_dim}\",\n",
        "            f\"BiLSTM: {self.bidirectional}\",\n",
        "            f\"Layers Num: {self.num_layers}\",\n",
        "            f\"Dropout: {self.dropout}\",\n",
        "            f\"Pretrained_embeddings: {False if self.embeddings is None else True}\",\n",
        "            f\"Batch Size: {self.batch_size}\", sep='\\n')"
      ],
      "execution_count": null,
      "outputs": []
    },
    {
      "cell_type": "markdown",
      "metadata": {
        "id": "iMDjr1Jy2kXD",
        "colab_type": "text"
      },
      "source": [
        "## Trainer "
      ]
    },
    {
      "cell_type": "markdown",
      "metadata": {
        "id": "K8ynVWBmoZNp",
        "colab_type": "text"
      },
      "source": [
        "- Create the trainer object with optimizer and loss function\n",
        "- load xnli metric from `nlp`\n",
        "- allow gradients clipping\n",
        "- save model with the current best `val_loss`\n",
        "- show progress bar whilst training\n",
        "- save the model after training \n",
        "- evaluate model after training epoch, fetch `val_loss`, `val_acc`\n",
        "- save & load checkpoint"
      ]
    },
    {
      "cell_type": "code",
      "metadata": {
        "id": "_h3fsz_zOiv3",
        "colab_type": "code",
        "colab": {}
      },
      "source": [
        "from random import randint\n",
        "\n",
        "\n",
        "class PTMTrainer:\n",
        "    def __init__(self, model, loss_function, optimizer,\n",
        "                 epochs, verbose, writer, _device):\n",
        "        \"\"\"\n",
        "        Trainer object requires model, criterion (loss function), optimizer\n",
        "        verbose level and number of epochs\n",
        "        \"\"\"\n",
        "        self.model = model\n",
        "        self.loss_function = loss_function\n",
        "        self.optimizer = optimizer\n",
        "        self._verbose = verbose\n",
        "        self._epochs = epochs\n",
        "        self.writer = writer\n",
        "        self.device = _device\n",
        "\n",
        "    def train(self, train_dataset, valid_dataset, save_to=None):\n",
        "        \"\"\"\n",
        "        Trains the model, while keeping track of the best model trained so far\n",
        "        and saves it if there is an improvement in the validation loss\n",
        "        Applies Gradients clipping if their norm increased above the 1.0\n",
        "        Writes the model loss, val_Loss plots in tensorboard.\n",
        "        Activates early stopping if needed with 5 epochs as patience to prevent overfitting\n",
        "\n",
        "        It uses pkbar package to have a progress bar keras like,\n",
        "        the progress bar shows the loss, val_loss during training as well as acc & val_acc\n",
        "        In order to compute the accuracy, we make use from nlp metric library for XNLI tasks. the accuracy is computed\n",
        "        from model's predictions during training and the original labels, the predictions are fetched as the argmax of\n",
        "        the logits tensor.\n",
        "\n",
        "        Model takes 3 arguments (from the sequences padded as per batch) to do the forward pass:\n",
        "        1. Sequence (inputs_ids)\n",
        "        2. Attention masks\n",
        "        3. Token types\n",
        "\n",
        "        Args:\n",
        "            train_dataset (DataLoader)\n",
        "            valid_dataset (DataLoader)\n",
        "            save_to (str, optional): Save model to this path. Defaults to None.\n",
        "\n",
        "        Returns:\n",
        "            float: average training loss\n",
        "            float: average training acc\n",
        "        \"\"\"\n",
        "        metric = nlp.load_metric('xnli')\n",
        "        train_loss, train_acc, best_val_loss = 0.0, 0.0, float(1e4)\n",
        "\n",
        "        for epoch in range(1, self._epochs + 1):\n",
        "            print(f'Epoch {epoch}/{self._epochs}:')\n",
        "            kbar = pkbar.Kbar(target=len(train_dataset))\n",
        "\n",
        "            epoch_acc, epoch_loss = 0.0, 0.0\n",
        "            self.model.train()\n",
        "            for batch_idx, sample in enumerate(train_dataset):\n",
        "                seq = sample[\"premises_hypotheses\"].to(self.device)\n",
        "                mask = sample[\"attention_mask\"].to(self.device)\n",
        "                token_types = sample[\"token_types\"].to(self.device)\n",
        "                labels = sample[\"outputs\"].to(self.device)\n",
        "                labels_ = labels.view(-1)\n",
        "\n",
        "                self.optimizer.zero_grad()\n",
        "                logits = self.model(seq, mask, token_types)\n",
        "                _, preds = torch.max(logits, dim=-1)\n",
        "                acc_ = metric.compute(preds, labels_)['accuracy']\n",
        "\n",
        "                sample_loss = self.loss_function(logits, labels_)\n",
        "                sample_loss.backward()\n",
        "                clip_grad_norm_(self.model.parameters(), 1.)  # Gradient Clipping\n",
        "                self.optimizer.step()\n",
        "                epoch_loss += sample_loss.tolist()\n",
        "                epoch_acc += acc_.tolist()\n",
        "\n",
        "                if self._verbose > 0:\n",
        "                    kbar.update(batch_idx, values=[(\"loss\", sample_loss.item()), (\"acc\", acc_.item())])\n",
        "\n",
        "            avg_epoch_loss = epoch_loss / len(train_dataset)\n",
        "            avg_epoch_acc = epoch_acc / len(train_dataset)\n",
        "            train_loss += avg_epoch_loss\n",
        "            train_acc += avg_epoch_acc\n",
        "\n",
        "            valid_loss, val_acc = self.evaluate(valid_dataset)\n",
        "            kbar.add(1,\n",
        "                     values=[(\"loss\", train_loss), (\"acc\", train_acc), (\"val_loss\", valid_loss), (\"val_acc\", val_acc)])\n",
        "            if self.writer:\n",
        "                self.writer.set_step(epoch, 'train')\n",
        "                self.writer.add_scalar('loss', avg_epoch_loss)\n",
        "                self.writer.set_step(epoch, 'valid')\n",
        "                self.writer.add_scalar('val_loss', valid_loss)\n",
        "\n",
        "            is_best = valid_loss <= best_val_loss\n",
        "            if is_best:\n",
        "                logging.info(\"Model Checkpoint saved\")\n",
        "                best_val_loss = valid_loss\n",
        "                model_dir = os.path.join(os.getcwd(), 'model',\n",
        "                                         f'{self.model.name}_ckpt_best')\n",
        "                self.model.save_(model_dir)\n",
        "        avg_epoch_loss = train_loss / self._epochs\n",
        "        avg_epoch_acc = train_acc / self._epochs\n",
        "\n",
        "        if save_to is not None:\n",
        "            self.model.save_(save_to)\n",
        "        return avg_epoch_loss, avg_epoch_acc\n",
        "\n",
        "    def evaluate(self, valid_dataset):\n",
        "        metric = nlp.load_metric('xnli')\n",
        "        valid_acc, valid_loss = 0.0, 0.0\n",
        "        self.model.eval()\n",
        "        with torch.no_grad():\n",
        "            for sample in tqdm(valid_dataset, desc='Evaluating',\n",
        "                               leave=False, total=len(valid_dataset)):\n",
        "                seq = sample[\"premises_hypotheses\"].to(self.device)\n",
        "                mask = sample[\"attention_mask\"].to(self.device)\n",
        "                token_types = sample[\"token_types\"].to(self.device)\n",
        "                labels = sample[\"outputs\"].to(self.device)\n",
        "                labels_ = labels.view(-1)\n",
        "                logits = self.model(seq, mask, token_types)\n",
        "                _, preds = torch.max(logits, dim=-1)\n",
        "                val_acc = metric.compute(preds, labels)['accuracy']\n",
        "                sample_loss = self.loss_function(logits, labels_)\n",
        "                valid_loss += sample_loss.tolist()\n",
        "                valid_acc += val_acc.tolist()\n",
        "        return valid_loss / len(valid_dataset), valid_acc / len(valid_dataset)\n",
        "\n",
        "    def save_checkpoint(self, filename):\n",
        "        \"\"\" Saves model's and optimizer's checkpoints to continue training from a certain checkpoint \"\"\"\n",
        "        state = {\"model\": self.model.state_dict(),\n",
        "                 \"optimizer\": self.optimizer.state_dict()}\n",
        "        torch.save(state, filename)\n",
        "\n",
        "    def load_checkpoint(self, filename):\n",
        "        \"\"\" loads model's and optimizer's checkpoints to continue training from a certain checkpoint \"\"\"\n",
        "        checkpoint = torch.load(filename)\n",
        "        self.model.load_state_dict(checkpoint['state_dict'])\n",
        "        self.optimizer.load_state_dict(checkpoint['optimizer'])\n",
        "        # now individually transfer the optimizer parts...\n",
        "        for state in self.optimizer.state.values():\n",
        "            for k, v in state.items():\n",
        "                if isinstance(v, torch.Tensor):\n",
        "                    state[k] = v.to(self.device)"
      ],
      "execution_count": null,
      "outputs": []
    },
    {
      "cell_type": "markdown",
      "metadata": {
        "id": "VKC3XaP92mR9",
        "colab_type": "text"
      },
      "source": [
        "### Callbacks"
      ]
    },
    {
      "cell_type": "markdown",
      "metadata": {
        "id": "mGWIUr5oqKUs",
        "colab_type": "text"
      },
      "source": [
        "Write train params (acc, loss, val_acc, val_loss) to tensorboard"
      ]
    },
    {
      "cell_type": "code",
      "metadata": {
        "id": "teDg2xknABPn",
        "colab_type": "code",
        "colab": {}
      },
      "source": [
        "class WriterTensorboardX:\n",
        "    \"\"\"\n",
        "    Logs training process to tensorboard for visualization\n",
        "    \"\"\"\n",
        "    def __init__(self, writer_dir, logger, enable):\n",
        "        self.writer = None\n",
        "        ensure_dir(writer_dir)\n",
        "        if enable:\n",
        "            log_path = writer_dir\n",
        "            try:\n",
        "                self.writer = importlib.import_module('tensorboardX').SummaryWriter(log_path)\n",
        "            except ModuleNotFoundError:\n",
        "                os.system('pip install tensorboardX')\n",
        "                self.writer = importlib.import_module('tensorboardX').SummaryWriter(log_path)\n",
        "        self.step = 0\n",
        "        self.mode = ''\n",
        "\n",
        "        self.tensorboard_writer_ftns = ['add_scalar', 'add_scalars', 'add_image', 'add_audio', 'add_text', 'add_histogram', 'add_pr_curve', 'add_embedding']\n",
        "\n",
        "    def set_step(self, step, mode='train'):\n",
        "        self.mode = mode\n",
        "        self.step = step\n",
        "\n",
        "    def __getattr__(self, name):\n",
        "        \"\"\"\n",
        "        If visualization is configured to use:\n",
        "            return add_data() methods of tensorboard with additional information (step, tag) added.\n",
        "        Otherwise:\n",
        "            return blank function handle that does nothing\n",
        "        \"\"\"\n",
        "        if name in self.tensorboard_writer_ftns:\n",
        "            add_data = getattr(self.writer, name, None)\n",
        "            def wrapper(tag, data, *args, **kwargs):\n",
        "                if add_data is not None:\n",
        "                    add_data('{}/{}'.format(self.mode, tag), data, self.step, *args, **kwargs)\n",
        "            return wrapper\n",
        "        else:\n",
        "            # default action for returning methods defined in this class, set_step() for instance.\n",
        "            try:\n",
        "                attr = object.__getattr__(name)\n",
        "            except AttributeError:\n",
        "                raise AttributeError(\"type object 'WriterTensorboardX' has no attribute '{}'\".format(name))\n",
        "            return attr"
      ],
      "execution_count": null,
      "outputs": []
    },
    {
      "cell_type": "markdown",
      "metadata": {
        "id": "x2UubP__j3bC",
        "colab_type": "text"
      },
      "source": [
        "## Evaluate Performance"
      ]
    },
    {
      "cell_type": "code",
      "metadata": {
        "id": "OE3HD-D2PZkx",
        "colab_type": "code",
        "colab": {}
      },
      "source": [
        "def compute_metrics(languages, predicted_labels, labels):\n",
        "    \"\"\"\n",
        "    Computes accuracy of the predicted labels (y_hat) vs labels (y)\n",
        "    \"\"\"\n",
        "    labels = [nli_label2int[label] for label in labels]\n",
        "    predicted_labels = [nli_label2int[predicted_label] for predicted_label in predicted_labels]\n",
        "\n",
        "\n",
        "    metric = nlp.load_metric('xnli', experiment_id=101)\n",
        "    headers = ('', 'accuracy', '# samples')\n",
        "    table = []\n",
        "    table.append(('overall', metric.compute(predicted_labels, labels)['accuracy'], len(labels)))\n",
        "\n",
        "    # per language\n",
        "    for evaluation_language in sorted(set(languages)):\n",
        "        evaluation_language_predicted_labels = [predicted_label for predicted_label, language in zip(predicted_labels, languages) if language == evaluation_language]\n",
        "        evaluation_language_labels = [label for label, language in zip(labels, languages) if language == evaluation_language]\n",
        "        evaluation_language_accuracy = metric.compute(evaluation_language_predicted_labels, evaluation_language_labels)['accuracy']\n",
        "        table.append((evaluation_language, evaluation_language_accuracy, len(evaluation_language_labels)))\n",
        "    print(tabulate(table, headers=headers, tablefmt=\"pretty\"))"
      ],
      "execution_count": null,
      "outputs": []
    },
    {
      "cell_type": "markdown",
      "metadata": {
        "id": "zpomMxmf2vGD",
        "colab_type": "text"
      },
      "source": [
        "## Main"
      ]
    },
    {
      "cell_type": "markdown",
      "metadata": {
        "id": "qsHtM5mMHv4t",
        "colab_type": "text"
      },
      "source": [
        "### Parse and pickle dataset"
      ]
    },
    {
      "cell_type": "code",
      "metadata": {
        "id": "TdWcYY0HuqiL",
        "colab_type": "code",
        "colab": {}
      },
      "source": [
        "from IPython.display import clear_output\n",
        "\n",
        "\n",
        "def print_summary(summary_data, verbose=False):\n",
        "    premises, dev_premises, test_premises, word2idx, label2idx = summary_data\n",
        "    # To clear out cell from unwanted downloading and indexing progress bars\n",
        "    clear_output()\n",
        "    if verbose:\n",
        "        print(\"\\n=============Data Summary======================\",\n",
        "              f\"train_x length: {len(premises)} sentences\",\n",
        "              f\"dev_x length: {len(dev_premises)} sentences\",\n",
        "              f\"test_x length: {len(test_premises)} sentences\",\n",
        "              f\"Vocab size: {len(word2idx)}\",\n",
        "              f\"Labels vocab size: {len(label2idx)}\",\n",
        "              \"===============================================\\n\", sep=\"\\n\")"
      ],
      "execution_count": null,
      "outputs": []
    },
    {
      "cell_type": "code",
      "metadata": {
        "id": "ae-wGoz861we",
        "colab_type": "code",
        "colab": {}
      },
      "source": [
        "configure_workspace()\n",
        "device_ = torch.device(\"cuda\" if torch.cuda.is_available() else \"cpu\")\n",
        "save_path = os.path.join(os.getcwd(), \"model\", \"word_stoi.pkl\")\n",
        "model_name_ = \"xlm-roberta-large\"\n",
        "\n",
        "data = read_train()\n",
        "train_dataset = PTMDatasetParser(device_, data, model_name_)\n",
        "train_dataset.encode_dataset()\n",
        "save_path = os.path.join(os.getcwd(), \"model\", \"train_dataset.pkl\")\n",
        "save_pickle(save_to=save_path, save_what=train_dataset)\n",
        "print(\"Processed and encoded Training dataset\")\n",
        "\n",
        "dev_data = read_dev()\n",
        "dev_dataset = PTMDatasetParser(device_, dev_data, model_name_)\n",
        "dev_dataset.encode_dataset()\n",
        "dev_save_path = os.path.join(os.getcwd(), \"model\", \"dev_dataset.pkl\")\n",
        "save_pickle(save_to=dev_save_path, save_what=dev_dataset)\n",
        "print(\"Processed and encoded Validation dataset\")\n",
        "\n",
        "test_data = read_test()\n",
        "test_dataset = PTMDatasetParser(device_, test_data, model_name_)\n",
        "test_dataset.encode_dataset()\n",
        "test_save_path = os.path.join(os.getcwd(), \"model\", \"test_dataset.pkl\")\n",
        "save_pickle(save_to=test_save_path, save_what=test_dataset)\n",
        "print(\"Processed and encoded Testing dataset\")"
      ],
      "execution_count": null,
      "outputs": []
    },
    {
      "cell_type": "markdown",
      "metadata": {
        "id": "MC797EShHytl",
        "colab_type": "text"
      },
      "source": [
        "### Hyperparams & DataLoades"
      ]
    },
    {
      "cell_type": "code",
      "metadata": {
        "id": "kwZHYcKjYdlF",
        "colab_type": "code",
        "colab": {}
      },
      "source": [
        "# Set Hyperparameters\n",
        "pretrained_embeddings_ = None\n",
        "batch_size = 8\n",
        "\n",
        "name_ = 'XLM-R_Seq_CLS'\n",
        "hp = HyperParameters(name_, None, train_dataset.label2idx,\n",
        "                     pretrained_embeddings_, batch_size)\n",
        "hp._print_info()"
      ],
      "execution_count": null,
      "outputs": []
    },
    {
      "cell_type": "code",
      "metadata": {
        "id": "ASF3digQYgp8",
        "colab_type": "code",
        "colab": {}
      },
      "source": [
        "# Prepare data loaders\n",
        "train_dataset_ = DataLoader(dataset=train_dataset, batch_size=batch_size,\n",
        "                            collate_fn=PTMDatasetParser.pad_batch,\n",
        "                            shuffle=True)\n",
        "dev_dataset_ = DataLoader(dataset=dev_dataset,\n",
        "                            batch_size=batch_size,\n",
        "                            collate_fn=PTMDatasetParser.pad_batch)\n",
        "test_dataset_ = DataLoader(dataset=test_dataset,\n",
        "                            batch_size=batch_size,\n",
        "                            collate_fn=PTMDatasetParser.pad_batch)"
      ],
      "execution_count": null,
      "outputs": []
    },
    {
      "cell_type": "markdown",
      "metadata": {
        "id": "V53yRq7-H1Us",
        "colab_type": "text"
      },
      "source": [
        "### Build and train model"
      ]
    },
    {
      "cell_type": "code",
      "metadata": {
        "id": "zTpytVwtYi6F",
        "colab_type": "code",
        "colab": {}
      },
      "source": [
        "model = PTM_Model(hp, model_name_, freeze_model=False).to(device_)\n",
        "model.print_summary()"
      ],
      "execution_count": null,
      "outputs": []
    },
    {
      "cell_type": "code",
      "metadata": {
        "id": "RmD7MpCCyI3p",
        "colab_type": "code",
        "colab": {}
      },
      "source": [
        "log_path = os.path.join(os.getcwd(), 'runs', hp.model_name)\n",
        "writer_ = WriterTensorboardX(log_path, logger=logging, enable=True)\n",
        "epochs_ = 1\n",
        "\n",
        "optimizer_ = AdamW(model.parameters(), lr=5e-6)\n",
        "\n",
        "trainer = PTMTrainer(model=model, writer=writer_,\n",
        "                       epochs=epochs_, _device=device_,\n",
        "                       loss_function=CrossEntropyLoss(),\n",
        "                       optimizer=optimizer_, verbose=True)\n",
        "\n",
        "save_to_ = os.path.join(os.getcwd(), 'model', f\"{model.name}_model\")\n",
        "            \n",
        "try:\n",
        "    _, _ = trainer.train(train_dataset_, dev_dataset_, save_to=save_to_)\n",
        "except (KeyboardInterrupt, RuntimeError) as e: \n",
        "    print(f\"\\nSaving model weights & optimizer's state, please wait...\")\n",
        "    model.save_(save_to_)\n",
        "    torch.save(optimizer_.state_dict(), os.path.join(os.getcwd(), 'model', f'{model.name}_optimizer_ckpt.pt'))\n",
        "    print(f\"Model & Optimizer states are saved\")\n",
        "\n",
        "   \n",
        "print(f\"Saving trainer's checkpoint\")\n",
        "trainer.save_checkpoint(filename=f\"{model.name}_retrain_ckpt.pt\")\n",
        "print(f\"A checkpoint is saved\")"
      ],
      "execution_count": null,
      "outputs": []
    },
    {
      "cell_type": "markdown",
      "metadata": {
        "id": "rtjif02VH4Ya",
        "colab_type": "text"
      },
      "source": [
        "### Save or Load models"
      ]
    },
    {
      "cell_type": "code",
      "metadata": {
        "id": "3IvrX7TWwnCt",
        "colab_type": "code",
        "colab": {}
      },
      "source": [
        "# save_checkpoint({'state_dict': model.state_dict(), 'optimizer' : optimizer_.state_dict()}, filename=f\"{model.name}_ckpt_retrain.pth.tar\")\n",
        "\n",
        "# torch.save(model.state_dict(), os.path.join(os.getcwd(), 'model', f'{model.name}_ckpt.pth'))\n",
        "# torch.save(model.state_dict(), os.path.join(os.getcwd(), 'model', f'{model.name}_ckpt.pth'))\n",
        "# torch.save(optimizer_.state_dict(), os.path.join(os.getcwd(), 'model', f'{model.name}_optimizer_ckpt.pt'))\n",
        "\n",
        "# model.load_state_dict(torch.load(os.path.join(os.getcwd(), 'model', f'{model.name}_model.pth')))\n",
        "# optimizer_.load_state_dict(torch.load(os.path.join(os.getcwd(), 'model', f'{model.name}_optimizer_ckpt.pt')))"
      ],
      "execution_count": null,
      "outputs": []
    },
    {
      "cell_type": "markdown",
      "metadata": {
        "id": "Wb2VUo2zH6oV",
        "colab_type": "text"
      },
      "source": [
        "### Predict and compute scores"
      ]
    },
    {
      "cell_type": "code",
      "metadata": {
        "id": "yGTQHqSOjGgh",
        "colab_type": "code",
        "colab": {
          "base_uri": "https://localhost:8080/",
          "referenced_widgets": [
            "b1320f30df004a0a9252f1da772aa7cd",
            "99d1a54b1734416e9ac66bf8d317b5f3",
            "b49514fb3b6849078a2380b4b13d4063",
            "b9c91fab701c431f81a18e44871a73f9"
          ]
        },
        "outputId": "dbb74ec2-65c0-44fe-b0f2-296bc56ccfb7"
      },
      "source": [
        "predicted_labels = []\n",
        "pbar = pkbar.Pbar(name='Predicting on Test dataset', target=len(test_dataset_))\n",
        "\n",
        "for batch_idx, sample in enumerate(test_dataset_):\n",
        "    seq = sample[\"premises_hypotheses\"].to(device_)\n",
        "    mask = sample[\"attention_mask\"].to(device_)\n",
        "    labels = sample[\"outputs\"].to(device_)\n",
        "    token_types = sample[\"token_types\"].to(device_)\n",
        "    batch_predicted_labels = model.predict_sentence_(seq, mask, token_types)\n",
        "    predicted_labels.extend(batch_predicted_labels)\n",
        "    pbar.update(batch_idx)\n",
        "\n",
        "save_pickle(os.path.join(os.getcwd(), \"model\", \"predicted_labels.pkl\"), predicted_labels)"
      ],
      "execution_count": null,
      "outputs": [
        {
          "output_type": "display_data",
          "data": {
            "application/vnd.jupyter.widget-view+json": {
              "model_id": "b1320f30df004a0a9252f1da772aa7cd",
              "version_minor": 0,
              "version_major": 2
            },
            "text/plain": [
              "HBox(children=(FloatProgress(value=0.0, description='Predicting on Testing dataset', max=9394.0, style=Progres…"
            ]
          },
          "metadata": {
            "tags": []
          }
        },
        {
          "output_type": "stream",
          "text": [
            "\r"
          ],
          "name": "stdout"
        }
      ]
    },
    {
      "cell_type": "code",
      "metadata": {
        "id": "cw2LdlYKxSrA",
        "colab_type": "code",
        "colab": {}
      },
      "source": [
        "save_pickle(os.path.join(os.getcwd(), \"model\", \"predicted_labels.pkl\"), predicted_labels)"
      ],
      "execution_count": null,
      "outputs": []
    },
    {
      "cell_type": "code",
      "metadata": {
        "id": "YTfjI4dMp7Vj",
        "colab_type": "code",
        "colab": {}
      },
      "source": [
        "predicted_labels = load_pickle(\"/content/xlm_predicted.pkl\")"
      ],
      "execution_count": null,
      "outputs": []
    },
    {
      "cell_type": "code",
      "metadata": {
        "id": "RpKwNcAp9xg2",
        "colab_type": "code",
        "colab": {
          "base_uri": "https://localhost:8080/",
          "height": 427,
          "referenced_widgets": [
            "2fe9e7083dfa4299b14894dab7ec3541",
            "bd63178b54a14bf08ba264231c386324",
            "5a02046bc04d4e99ade1f88b349d7afe",
            "ad0784c543194989b867996077f5a5e2",
            "85eaf13a6aee4214b543228221f34e06",
            "8cb8c79146be4332adfb7d25dba4a96c",
            "b47f5fd14bc64b06836f56a4c0666bd1",
            "83affa4dac9040028dbaf6e6da0ad279"
          ]
        },
        "outputId": "e248f2e5-b82a-4839-c149-f053588e3001"
      },
      "source": [
        "decoded_predicted_labels = [train_dataset.idx2label.get(tag_) for tag in predicted_labels for tag_ in tag]\n",
        "assert len(decoded_predicted_labels) == len(test_dataset.labels)\n",
        "compute_metrics(test_dataset.languages, decoded_predicted_labels, test_dataset.labels)"
      ],
      "execution_count": null,
      "outputs": [
        {
          "output_type": "display_data",
          "data": {
            "application/vnd.jupyter.widget-view+json": {
              "model_id": "2fe9e7083dfa4299b14894dab7ec3541",
              "version_minor": 0,
              "version_major": 2
            },
            "text/plain": [
              "HBox(children=(FloatProgress(value=0.0, description='Downloading', max=2539.0, style=ProgressStyle(description…"
            ]
          },
          "metadata": {
            "tags": []
          }
        },
        {
          "output_type": "stream",
          "text": [
            "\n",
            "+---------+--------------------+-----------+\n",
            "|         |      accuracy      | # samples |\n",
            "+---------+--------------------+-----------+\n",
            "| overall | 0.7965003326679974 |   75150   |\n",
            "|   ar    | 0.8283433133732535 |   5010    |\n",
            "|   bg    | 0.7914171656686627 |   5010    |\n",
            "|   de    | 0.7722554890219561 |   5010    |\n",
            "|   el    | 0.7223552894211577 |   5010    |\n",
            "|   en    | 0.8457085828343314 |   5010    |\n",
            "|   es    | 0.7167664670658682 |   5010    |\n",
            "|   fr    | 0.8301397205588822 |   5010    |\n",
            "|   hi    | 0.7842315369261477 |   5010    |\n",
            "|   ru    | 0.8181636726546906 |   5010    |\n",
            "|   sw    | 0.881437125748503  |   5010    |\n",
            "|   th    | 0.7856287425149701 |   5010    |\n",
            "|   tr    | 0.8245508982035928 |   5010    |\n",
            "|   ur    | 0.7992015968063872 |   5010    |\n",
            "|   vi    | 0.7592814371257485 |   5010    |\n",
            "|   zh    | 0.7880239520958083 |   5010    |\n",
            "+---------+--------------------+-----------+\n"
          ],
          "name": "stdout"
        }
      ]
    },
    {
      "cell_type": "code",
      "metadata": {
        "id": "Jmmft7bmvNY1",
        "colab_type": "code",
        "colab": {}
      },
      "source": [
        "import pandas as pd\n",
        "from sklearn.metrics import confusion_matrix\n",
        "import matplotlib.pyplot as plt\n",
        "from sklearn.metrics import confusion_matrix\n",
        "import seaborn as sn\n",
        "%matplotlib inline\n",
        "\n",
        "\n",
        "def pprint_confusion_matrix(conf_matrix):\n",
        "    df_cm = pd.DataFrame(conf_matrix)\n",
        "    fig = plt.figure(figsize=(15, 10))\n",
        "    axes = fig.add_subplot(111)\n",
        "    sn.set(font_scale=1.4)  # for label size\n",
        "    sn.heatmap(df_cm, annot=True, annot_kws={\"size\": 13})  # font size\n",
        "    axes.set_xlabel('Predicted labels')\n",
        "    axes.set_ylabel('True labels')\n",
        "    axes.set_title('Confusion Matrix')\n",
        "    axes.xaxis.set_ticklabels(['Entailment', 'Neutral', 'Contradiction'])\n",
        "    axes.yaxis.set_ticklabels(['Entailment', 'Neutral', 'Contradiction'])\n",
        "    plt.savefig(\"XLM-R_Seq_CLS_model_confusion_matrix.png\")\n",
        "    plt.show()"
      ],
      "execution_count": null,
      "outputs": []
    },
    {
      "cell_type": "code",
      "metadata": {
        "id": "dcHbo3ZyvUG2",
        "colab_type": "code",
        "colab": {
          "base_uri": "https://localhost:8080/",
          "height": 624
        },
        "outputId": "f0e70095-0a41-4977-a743-4bbfd7bac748"
      },
      "source": [
        "pprint_confusion_matrix(confusion_matrix(test_dataset.labels, decoded_predicted_labels, normalize='true'))"
      ],
      "execution_count": null,
      "outputs": [
        {
          "output_type": "display_data",
          "data": {
            "image/png": "[encoded data removed]",
            "text/plain": [
              "<Figure size 1080x720 with 2 Axes>"
            ]
          },
          "metadata": {
            "tags": [],
            "needs_background": "light"
          }
        }
      ]
    },
    {
      "cell_type": "markdown",
      "metadata": {
        "id": "2iry8Q2MH9Rp",
        "colab_type": "text"
      },
      "source": [
        "### GDrive, Zip, TensorBoard"
      ]
    },
    {
      "cell_type": "code",
      "metadata": {
        "id": "9iNl-KgPzmK-",
        "colab_type": "code",
        "colab": {}
      },
      "source": [
        "from google.colab import drive\n",
        "drive.mount('/content/drive')"
      ],
      "execution_count": null,
      "outputs": []
    },
    {
      "cell_type": "code",
      "metadata": {
        "id": "cmXWXHZVSI-o",
        "colab_type": "code",
        "colab": {}
      },
      "source": [
        "!unzip \"/content/drive/My Drive/7748_xlmr_model.zip\" -d \"/\""
      ],
      "execution_count": null,
      "outputs": []
    },
    {
      "cell_type": "code",
      "metadata": {
        "id": "C-Ati0Jat-2f",
        "colab_type": "code",
        "colab": {
          "base_uri": "https://localhost:8080/",
          "height": 154
        },
        "outputId": "9baca1d7-573e-4162-eeb1-610ad379a5e6"
      },
      "source": [
        "!zip -r \"/content/drive/My Drive/78_xlmr_model.zip\" \"/content/model/\""
      ],
      "execution_count": null,
      "outputs": [
        {
          "output_type": "stream",
          "text": [
            "  adding: content/model/ (stored 0%)\n",
            "  adding: content/model/XLM-R_Seq_CLS_optimizer_ckpt.pt (deflated 47%)\n",
            "  adding: content/model/.ipynb_checkpoints/ (stored 0%)\n",
            "  adding: content/model/XLM-R_Seq_CLS_model.pt (deflated 22%)\n",
            "  adding: content/model/XLM-R_Seq_CLS_model.pth (deflated 22%)\n",
            "  adding: content/model/predicted_labels.pkl (deflated 81%)\n",
            "  adding: content/model/XLM-R_Seq_CLS_ckpt.pth (deflated 22%)\n"
          ],
          "name": "stdout"
        }
      ]
    },
    {
      "cell_type": "code",
      "metadata": {
        "id": "I74XVV6MCjOv",
        "colab_type": "code",
        "colab": {}
      },
      "source": [
        "!zip -r \"/content/drive/My Drive/7748_xlmr_model_runs.zip\" \"/content/runs/\""
      ],
      "execution_count": null,
      "outputs": []
    },
    {
      "cell_type": "code",
      "metadata": {
        "id": "xYTUnXi6wSop",
        "colab_type": "code",
        "colab": {}
      },
      "source": [
        "%load_ext tensorboard\n",
        "%tensorboard --logdir runs"
      ],
      "execution_count": null,
      "outputs": []
    }
  ]
}